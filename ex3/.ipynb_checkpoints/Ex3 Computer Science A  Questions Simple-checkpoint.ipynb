{
 "cells": [
  {
   "cell_type": "markdown",
   "id": "bbff31ff",
   "metadata": {},
   "source": [
    "# 1\n",
    "Consider the following code segment.\n",
    "\n",
    "```java\n",
    "for (int k = 0; k < 20; k = k + 2){\n",
    "    if (k % 3 == 1){\n",
    "        System.out.println(k + \" \");\n",
    "    }\n",
    "}\n",
    "```\n",
    "\n",
    "What is printed as a result of executing the code segment?\n"
   ]
  },
  {
   "cell_type": "code",
   "execution_count": null,
   "id": "ab45e01e",
   "metadata": {},
   "outputs": [],
   "source": []
  },
  {
   "cell_type": "markdown",
   "id": "07473687",
   "metadata": {},
   "source": [
    "# 2\n",
    "\n",
    "Consider the following code segment.\n",
    "\n",
    "```java\n",
    "ArrayList<String> list = new ArrayList<String>();\n",
    "\n",
    "list.add(\"P\");\n",
    "list.add(\"Q\");\n",
    "list.add(\"R\");\n",
    "list.set(2, \"s\");\n",
    "list.add(2, \"T\");\n",
    "list.add(\"u\");\n",
    "System.out.println(list);\n",
    "```\n",
    "\n",
    "What is printed as a result of executing the code segment"
   ]
  },
  {
   "cell_type": "code",
   "execution_count": null,
   "id": "020744f1",
   "metadata": {},
   "outputs": [],
   "source": []
  },
  {
   "cell_type": "markdown",
   "id": "13ea25cb",
   "metadata": {},
   "source": [
    "# 3\n",
    "\n",
    "Consider the following incomplete method, which is intended to return the number of integers that evenly divide\n",
    "the integer inputVal. Assume that inputVal is greater than 0.\n",
    "\n",
    "```java\n",
    "public static int numDivisors(int inputVal)\n",
    "{\n",
    "    int count = 0;\n",
    "    for (int k = 1; k <= inputVal; k++)\n",
    "    {\n",
    "        if ( /* condition */ )\n",
    "        {\n",
    "            count++;\n",
    "        }\n",
    "    }\n",
    "    return count;\n",
    "}\n",
    "```\n",
    "\n",
    "- A: InputVal % k == 0\n",
    "- B: k % inputVal == 0\n",
    "- C: inputVal % k != 0\n",
    "- D: inputVal / k == 0\n",
    "- E: K/inputVal > 0"
   ]
  },
  {
   "cell_type": "code",
   "execution_count": null,
   "id": "10af26de",
   "metadata": {},
   "outputs": [],
   "source": []
  },
  {
   "cell_type": "markdown",
   "id": "6e6bc6d7",
   "metadata": {},
   "source": [
    "# 4\n",
    "\n",
    "Consider the following code segment.\n",
    "\n",
    "```java\n",
    "\n",
    "for (int r = 3; r > 0; r --)\n",
    "{\n",
    "    int c;\n",
    "    for (c = 1; c < r; c++){\n",
    "        System.out.println(\"-\");\n",
    "    }\n",
    "    for (c = r; c <= 3; c++){\n",
    "        System.out.println(\"*\");\n",
    "    }\n",
    "    System.out.println();\n",
    "}\n",
    "```\n",
    "What is printed as a result of excuting the code segment?"
   ]
  },
  {
   "cell_type": "code",
   "execution_count": null,
   "id": "05625441",
   "metadata": {},
   "outputs": [],
   "source": []
  },
  {
   "cell_type": "markdown",
   "id": "e442669b",
   "metadata": {},
   "source": [
    "# 5\n",
    "\n",
    "Consider the following two classes\n",
    "```java\n",
    "public class A\n",
    "{\n",
    "    public void show(){\n",
    "        System.out.print(\"A\");\n",
    "    }\n",
    "}\n",
    "```\n",
    "\n",
    "What is printed as result of executing the following code segment?\n",
    "```java\n",
    "A obj = new A();\n",
    "obj.show()\n",
    "```\n",
    "    "
   ]
  },
  {
   "cell_type": "code",
   "execution_count": null,
   "id": "c59683dc",
   "metadata": {},
   "outputs": [],
   "source": []
  },
  {
   "cell_type": "markdown",
   "id": "e61171be",
   "metadata": {},
   "source": [
    "# 6\n",
    "Assume that x and y are boolean variables and have been properly initialized.\n",
    "\n",
    "```\n",
    "(x || y) && x\n",
    "```\n",
    "\n",
    "Which of the following always evaluates to the same value as the expression above?\n",
    "\n",
    "- A: x\n",
    "- B: Y\n",
    "- C: X && Y\n",
    "- D: X || Y\n",
    "- E: X != Y"
   ]
  },
  {
   "cell_type": "code",
   "execution_count": null,
   "id": "24190c8e",
   "metadata": {},
   "outputs": [],
   "source": []
  },
  {
   "cell_type": "markdown",
   "id": "d7d40afb",
   "metadata": {},
   "source": [
    "# 7\n",
    "Consider the following code segment.\n",
    "\n",
    "```java\n",
    "for (int outer = 1; outer <= 6; outer++)\n",
    "{\n",
    "    for (int inner = outer; inner <= 6; inner++)\n",
    "    {\n",
    "        if (inner % 2 == 0)\n",
    "        {\n",
    "            System.out.print(inner + \" \");\n",
    "        }\n",
    "    }\n",
    "    System.out.println();\n",
    "}\n",
    "```\n",
    "What will be printed as a result of executing the code segment?"
   ]
  },
  {
   "cell_type": "code",
   "execution_count": null,
   "id": "dabea715",
   "metadata": {},
   "outputs": [],
   "source": []
  },
  {
   "cell_type": "markdown",
   "id": "5523696b",
   "metadata": {},
   "source": [
    "# 8\n",
    "\n",
    "Consider the following method.\n",
    "```java \n",
    "public static int [] operation(int[][], int r, int c){\n",
    "    int [] result = new int[matrix.length];\n",
    "    for (int j = 0; j < matrix.length; j ++)\n",
    "    {\n",
    "        result[j] = matrix[r][j] * matrix[j][c];\n",
    "    }\n",
    "    return result;\n",
    "}\n",
    "```\n",
    "\n",
    "The following code segment appears in another method in the same class\n",
    "```java\n",
    "int [][] mat = {{3, 2, 1, 4},\n",
    "                {1, 2, 3, 4},\n",
    "                {2, 2, 1, 2},\n",
    "                {1, 1, 1, 1}}\n",
    "int [] arr = operation(mat, 1, 2);\n",
    "```\n",
    "\n",
    "What will be the result of the code above?"
   ]
  },
  {
   "cell_type": "code",
   "execution_count": null,
   "id": "4b25d2a0",
   "metadata": {},
   "outputs": [],
   "source": []
  },
  {
   "cell_type": "markdown",
   "id": "ba9158b1",
   "metadata": {},
   "source": [
    "# 9\n",
    "\n",
    "Assume that x and y are boolean variables and have been properly initialized.\n",
    "\n",
    "```\n",
    "(x && y) && !(x || y)\n",
    "```\n",
    "\n",
    "Explain this in next kernel."
   ]
  },
  {
   "cell_type": "code",
   "execution_count": null,
   "id": "91e11580",
   "metadata": {},
   "outputs": [],
   "source": []
  },
  {
   "cell_type": "markdown",
   "id": "b16fbf82",
   "metadata": {},
   "source": [
    "# 10\n",
    "\n",
    "Consider the following code segment.\n",
    "\n",
    "```java \n",
    "int count = 0;\n",
    "for (int x=0; x < 4; x++){\n",
    "    for (int y = x; y < 4; y++)\n",
    "    {\n",
    "        count ++;\n",
    "    }\n",
    "}\n",
    "System.out.println(count);\n",
    "```\n",
    "What is the result of the code above?\n",
    "\n"
   ]
  },
  {
   "cell_type": "code",
   "execution_count": null,
   "id": "2f80b8ee",
   "metadata": {},
   "outputs": [],
   "source": []
  },
  {
   "cell_type": "markdown",
   "id": "70ea0b25",
   "metadata": {},
   "source": [
    "# 11 Rotated Sorted Array 2\n",
    "\n",
    "Suppose an array of length n sorted in ascending order is rotated between 1 and n times. For example, the array nums = [0,1,4,4,5,6,7] might become:\n",
    "\n",
    "- [4,5,6,7,0,1,4] if it was rotated 4 times.\n",
    "- [0,1,4,4,5,6,7] if it was rotated 7 times.\n",
    "\n",
    "**Notice that rotating an array [a[0], a[1], a[2], ..., a[n-1]] 1 time results in the array [a[n-1], a[0], a[1], a[2], ..., a[n-2]].**\n",
    "\n",
    "**Given the sorted rotated array nums that may contain duplicates, return the minimum element of this array.**\n",
    "\n",
    "\n",
    "Example\n",
    "\n",
    "```\n",
    "Input: nums = [1, 3, 5]\n",
    "Output: 1\n",
    "\n",
    "Input nums = [2, 2, 2, 0, 1]\n",
    "Output: 0\n",
    "```"
   ]
  },
  {
   "cell_type": "code",
   "execution_count": null,
   "id": "a13caa83",
   "metadata": {},
   "outputs": [],
   "source": []
  },
  {
   "cell_type": "markdown",
   "id": "43f49152",
   "metadata": {},
   "source": [
    "# 12 \n",
    "Consider the following Defintion.\n",
    "```java\n",
    "int [][] numbers = {{1, 2, 3},\n",
    "                    {4, 5, 6}}\n",
    "```\n",
    "\n",
    "Write the code about how to plot/print output like 123456"
   ]
  },
  {
   "cell_type": "code",
   "execution_count": null,
   "id": "1f72be8e",
   "metadata": {},
   "outputs": [],
   "source": []
  }
 ],
 "metadata": {
  "kernelspec": {
   "display_name": "Python 3",
   "language": "python",
   "name": "python3"
  },
  "language_info": {
   "codemirror_mode": {
    "name": "ipython",
    "version": 3
   },
   "file_extension": ".py",
   "mimetype": "text/x-python",
   "name": "python",
   "nbconvert_exporter": "python",
   "pygments_lexer": "ipython3",
   "version": "3.8.8"
  }
 },
 "nbformat": 4,
 "nbformat_minor": 5
}
