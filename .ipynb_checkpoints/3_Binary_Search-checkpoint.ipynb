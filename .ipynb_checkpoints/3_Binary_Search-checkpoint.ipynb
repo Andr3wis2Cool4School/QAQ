{
 "cells": [
  {
   "cell_type": "markdown",
   "id": "da2d8950",
   "metadata": {},
   "source": [
    "# Binary Search\n",
    "\n",
    "What is Binary Search?"
   ]
  },
  {
   "cell_type": "markdown",
   "id": "e3b4f784",
   "metadata": {},
   "source": [
    "## Background\n",
    "\n",
    "**Binary Search is one of the most important algorithms in the world.**\n",
    "\n",
    "\n",
    "It allows us to quickly find a number(`target number`) in a **sorted** array/list. "
   ]
  },
  {
   "cell_type": "markdown",
   "id": "6ca5a8ce",
   "metadata": {},
   "source": [
    "Let's say we are given a sorted array like this."
   ]
  },
  {
   "cell_type": "code",
   "execution_count": 1,
   "id": "4e21a455",
   "metadata": {},
   "outputs": [
    {
     "data": {
      "text/plain": [
       "[2, 3, 5, 6, 8, 10, 12]"
      ]
     },
     "execution_count": 1,
     "metadata": {},
     "output_type": "execute_result"
    }
   ],
   "source": [
    "[2, 3, 5, 6, 8, 10, 12 ]"
   ]
  },
  {
   "cell_type": "markdown",
   "id": "81e43d62",
   "metadata": {},
   "source": [
    "For each given list/array, the index range is from zero to n-1.\n",
    "\n",
    "for instance, the index of the list above is "
   ]
  },
  {
   "cell_type": "code",
   "execution_count": 2,
   "id": "593f2ae8",
   "metadata": {},
   "outputs": [
    {
     "data": {
      "text/plain": [
       "(0, 1, 2, 3, 4, 5, 6)"
      ]
     },
     "execution_count": 2,
     "metadata": {},
     "output_type": "execute_result"
    }
   ],
   "source": [
    "0, 1, 2, 3, 4, 5, 6"
   ]
  },
  {
   "cell_type": "markdown",
   "id": "3d4e71ec",
   "metadata": {},
   "source": [
    "Now let us set our target number is 10\n",
    "\n",
    "we need to define a function that returns the index of our target number in the list.\n",
    "\n",
    "For this case, the function needs to return 5."
   ]
  },
  {
   "cell_type": "markdown",
   "id": "0347a13d",
   "metadata": {},
   "source": [
    "The ideal of binary Search is always find the mid value in the list to see if the value is equal than our target value."
   ]
  },
  {
   "cell_type": "markdown",
   "id": "69028865",
   "metadata": {},
   "source": [
    "- if the mid value is our target value, the function end.\n",
    "- otherwise, go to the left or to the right."
   ]
  },
  {
   "cell_type": "markdown",
   "id": "33696568",
   "metadata": {},
   "source": [
    "In our case, the mid value is 6.\n",
    "\n",
    "6 < 10\n",
    "\n",
    "So our target value must be in the right.\n",
    "\n",
    "The remaining range in which we should search is from index 4 to 6."
   ]
  },
  {
   "cell_type": "markdown",
   "id": "87aa88f4",
   "metadata": {},
   "source": [
    "- Than we repeat, ask about the mid element if it is == 10:\n",
    "- if it not, compare \n",
    "- if it is, return index."
   ]
  },
  {
   "cell_type": "markdown",
   "id": "9388e0d6",
   "metadata": {},
   "source": [
    "### Note"
   ]
  },
  {
   "cell_type": "markdown",
   "id": "037e2f06",
   "metadata": {},
   "source": [
    "At each step, there is usually a remaining range in which we look for the target value.\n",
    "\n",
    "We usually represent that range with two variables Left and Right, that are the first and last index in the range.\n",
    "\n",
    "We need to somehow comput the middle element in the range.\n",
    "\n",
    "\n",
    "A lot of people using formula\n",
    "\n",
    "$M = \\frac{(L + R)}{2}$\n",
    "\n",
    ">> We should never use the formula above, Cuz in Java certain value using this formula might overflow.\n",
    "\n",
    "We should use this formula to comput the middle element in the range\n",
    "\n",
    "$M = L + \\frac{R-L}{2}$\n",
    "\n"
   ]
  },
  {
   "cell_type": "markdown",
   "id": "f9fda978",
   "metadata": {},
   "source": [
    "**Here are the implementation**"
   ]
  },
  {
   "cell_type": "code",
   "execution_count": 6,
   "id": "3ddab41d",
   "metadata": {},
   "outputs": [
    {
     "data": {
      "text/plain": [
       "1"
      ]
     },
     "execution_count": 6,
     "metadata": {},
     "output_type": "execute_result"
    }
   ],
   "source": [
    "# In python \n",
    "4//3"
   ]
  },
  {
   "cell_type": "markdown",
   "id": "6bff581f",
   "metadata": {},
   "source": [
    "- // will give us what is left\n",
    "- / will work in Java\n",
    "\n",
    "求余"
   ]
  },
  {
   "cell_type": "code",
   "execution_count": 9,
   "id": "ad47a823",
   "metadata": {},
   "outputs": [],
   "source": [
    "def binary_search(l, target):\n",
    "    L = 0 \n",
    "    R = len(l) -1\n",
    "    while L <= R:\n",
    "        mid = L + (R-L) // 2\n",
    "        if l[mid] == target:\n",
    "            return mid\n",
    "        if l[mid] < target:\n",
    "            L = mid + 1\n",
    "        else: # l[mid] >= target\n",
    "            R = mid -1\n",
    "    return -1"
   ]
  },
  {
   "cell_type": "code",
   "execution_count": 11,
   "id": "cf3a94f7",
   "metadata": {},
   "outputs": [
    {
     "data": {
      "text/plain": [
       "5"
      ]
     },
     "execution_count": 11,
     "metadata": {},
     "output_type": "execute_result"
    }
   ],
   "source": [
    "l = [2, 3, 5, 6, 8, 10, 12 ]\n",
    "target = 10\n",
    "res = binary_search(l, target)\n",
    "res"
   ]
  },
  {
   "cell_type": "markdown",
   "id": "955c8412",
   "metadata": {},
   "source": [
    "j >> binary_search_example"
   ]
  }
 ],
 "metadata": {
  "kernelspec": {
   "display_name": "Python 3",
   "language": "python",
   "name": "python3"
  },
  "language_info": {
   "codemirror_mode": {
    "name": "ipython",
    "version": 3
   },
   "file_extension": ".py",
   "mimetype": "text/x-python",
   "name": "python",
   "nbconvert_exporter": "python",
   "pygments_lexer": "ipython3",
   "version": "3.8.8"
  }
 },
 "nbformat": 4,
 "nbformat_minor": 5
}
