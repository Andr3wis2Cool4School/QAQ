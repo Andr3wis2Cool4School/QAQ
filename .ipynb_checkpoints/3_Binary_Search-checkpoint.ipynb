{
 "cells": [
  {
   "cell_type": "markdown",
   "id": "934b3ea3",
   "metadata": {},
   "source": [
    "# Binary Search\n",
    "\n",
    "What is Binary Search?"
   ]
  },
  {
   "cell_type": "markdown",
   "id": "65e13f98",
   "metadata": {},
   "source": [
    "## Background\n",
    "\n",
    "**Binary Search is one of the most important algorithms in the world.**\n",
    "\n",
    "\n",
    "It allows us to quickly find a number(`target number`) in a **sorted** array/list. "
   ]
  },
  {
   "cell_type": "markdown",
   "id": "6c64c054",
   "metadata": {},
   "source": [
    "Let's say we are given a sorted array like this."
   ]
  },
  {
   "cell_type": "code",
   "execution_count": 1,
   "id": "3ac058fc",
   "metadata": {},
   "outputs": [
    {
     "data": {
      "text/plain": [
       "[2, 3, 5, 6, 8, 10, 12]"
      ]
     },
     "execution_count": 1,
     "metadata": {},
     "output_type": "execute_result"
    }
   ],
   "source": [
    "[2, 3, 5, 6, 8, 10, 12 ]"
   ]
  },
  {
   "cell_type": "markdown",
   "id": "f6b15353",
   "metadata": {},
   "source": [
    "For each given list/array, the index range is from zero to n-1.\n",
    "\n",
    "for instance, the index of the list above is "
   ]
  },
  {
   "cell_type": "code",
   "execution_count": 2,
   "id": "20bfc721",
   "metadata": {},
   "outputs": [
    {
     "data": {
      "text/plain": [
       "(0, 1, 2, 3, 4, 5, 6)"
      ]
     },
     "execution_count": 2,
     "metadata": {},
     "output_type": "execute_result"
    }
   ],
   "source": [
    "0, 1, 2, 3, 4, 5, 6"
   ]
  },
  {
   "cell_type": "markdown",
   "id": "5b588dbc",
   "metadata": {},
   "source": [
    "Now let us set our target number is 10\n",
    "\n",
    "we need to define a function that returns the index of our target number in the list.\n",
    "\n",
    "For this case, the function needs to return 5."
   ]
  },
  {
   "cell_type": "markdown",
   "id": "699d4a74",
   "metadata": {},
   "source": [
    "The ideal of binary Search is always find the mid value in the list to see if the value is equal than our target value."
   ]
  },
  {
   "cell_type": "markdown",
   "id": "3aa074ac",
   "metadata": {},
   "source": [
    "- if the mid value is our target value, the function end.\n",
    "- otherwise, go to the left or to the right."
   ]
  },
  {
   "cell_type": "markdown",
   "id": "e0457a29",
   "metadata": {},
   "source": [
    "In our case, the mid value is 6.\n",
    "\n",
    "6 < 10\n",
    "\n",
    "So our target value must be in the right.\n",
    "\n",
    "The remaining range in which we should search is from index 4 to 6."
   ]
  },
  {
   "cell_type": "markdown",
   "id": "3a81cb33",
   "metadata": {},
   "source": [
    "- Than we repeat, ask about the mid element if it is == 10:\n",
    "- if it not, compare \n",
    "- if it is, return index."
   ]
  },
  {
   "cell_type": "code",
   "execution_count": null,
   "id": "1853ed6c",
   "metadata": {},
   "outputs": [],
   "source": []
  }
 ],
 "metadata": {
  "kernelspec": {
   "display_name": "Python 3",
   "language": "python",
   "name": "python3"
  },
  "language_info": {
   "codemirror_mode": {
    "name": "ipython",
    "version": 3
   },
   "file_extension": ".py",
   "mimetype": "text/x-python",
   "name": "python",
   "nbconvert_exporter": "python",
   "pygments_lexer": "ipython3",
   "version": "3.8.8"
  }
 },
 "nbformat": 4,
 "nbformat_minor": 5
}
