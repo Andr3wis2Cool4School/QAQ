{
 "cells": [
  {
   "cell_type": "markdown",
   "id": "5096b9a5",
   "metadata": {},
   "source": [
    "## Exercise n. 1 \n",
    "Request 2 numbers to the user. Write a function that print the minimum between the two numbers passed as parameters.\n",
    "Try to use if … elif … else statements and avoid using max() function."
   ]
  },
  {
   "cell_type": "code",
   "execution_count": null,
   "id": "507fc985",
   "metadata": {},
   "outputs": [],
   "source": []
  },
  {
   "cell_type": "markdown",
   "id": "5067fbf7",
   "metadata": {},
   "source": [
    "## Exercise n.2 \n",
    "Request a single character to the user. Write a function that receives the character as parameter. The function will print if the character is a vowel (e.g. a, e, i, o, u) or not."
   ]
  },
  {
   "cell_type": "code",
   "execution_count": null,
   "id": "1911ec30",
   "metadata": {},
   "outputs": [],
   "source": []
  },
  {
   "cell_type": "markdown",
   "id": "44944a06",
   "metadata": {},
   "source": [
    "## Exercise n. 3 \n",
    "Textual histogram generator. Write a function that, given a list of numbers, prints an histogram based on those numbers. Use asterisks to draw.\n",
    "Example:\n",
    "Given the list [3,7,9,5] it should produce the following histogram:\n",
    "\n",
    "`===`\n",
    "\n",
    "`=======`\n",
    "\n",
    "`=========`\n",
    "\n",
    "`=====`"
   ]
  },
  {
   "cell_type": "code",
   "execution_count": null,
   "id": "4e35a498",
   "metadata": {},
   "outputs": [],
   "source": []
  },
  {
   "cell_type": "markdown",
   "id": "26d17ea6",
   "metadata": {},
   "source": [
    "## Exercise n. 4 \n",
    "Same as exercise n. 3 but the function should receive a parameter to order the list. The parameter should allow values “Ascending” or “Descending”. It should be used to produce an appropriate histogram based on the ordered list.\n",
    "Example:\n",
    "Given the list [3,7,9,5] and ordering “Ascending” it should produce the following histogram:\n",
    "\n",
    "`===`\n",
    "\n",
    "`=====`\n",
    "\n",
    "`=======`\n",
    "\n",
    "`=========`\n"
   ]
  },
  {
   "cell_type": "code",
   "execution_count": null,
   "id": "cdf9c5ef",
   "metadata": {},
   "outputs": [],
   "source": []
  }
 ],
 "metadata": {
  "kernelspec": {
   "display_name": "Python 3",
   "language": "python",
   "name": "python3"
  },
  "language_info": {
   "codemirror_mode": {
    "name": "ipython",
    "version": 3
   },
   "file_extension": ".py",
   "mimetype": "text/x-python",
   "name": "python",
   "nbconvert_exporter": "python",
   "pygments_lexer": "ipython3",
   "version": "3.8.8"
  }
 },
 "nbformat": 4,
 "nbformat_minor": 5
}
