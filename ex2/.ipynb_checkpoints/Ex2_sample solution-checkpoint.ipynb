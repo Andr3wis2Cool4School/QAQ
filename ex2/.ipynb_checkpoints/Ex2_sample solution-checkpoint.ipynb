{
 "cells": [
  {
   "cell_type": "markdown",
   "metadata": {},
   "source": [
    "## Exercise n. 1 \n",
    "Request 2 numbers to the user. Write a function that print the minimum between the two numbers passed as parameters.\n",
    "Try to use if … elif … else statements and avoid using max() function."
   ]
  },
  {
   "cell_type": "code",
   "execution_count": null,
   "metadata": {},
   "outputs": [],
   "source": [
    "def minNum(a,b):\n",
    "    if a < b:\n",
    "        print(a)\n",
    "    elif a > b:\n",
    "        print(b)\n",
    "    else:\n",
    "        print('a equals b')\n",
    "\n",
    "a = int(input('Please input the first number:'))\n",
    "b = int(input('Please input the second number:'))\n",
    "minNum(a,b)"
   ]
  },
  {
   "cell_type": "markdown",
   "metadata": {},
   "source": [
    "## Exercise n.2 \n",
    "Request a single character to the user. Write a function that receives the character as parameter. The function will print if the character is a vowel (e.g. a, e, i, o, u) or not."
   ]
  },
  {
   "cell_type": "code",
   "execution_count": null,
   "metadata": {},
   "outputs": [],
   "source": [
    "def vowel(char):\n",
    "    allVowels = ['a','e','i','o','u']\n",
    "    if char.lower() in allVowels:\n",
    "        print('This character is a vowel.')\n",
    "    else:\n",
    "        print('This character is not a vowel')\n",
    "        \n",
    "character = input('Please input the character you want to check:')\n",
    "vowel(character)"
   ]
  },
  {
   "cell_type": "markdown",
   "metadata": {},
   "source": [
    "## Exercise n. 3 (2 Marks)\n",
    "Given a list of numbers, write a function that computes (and returns) the average of all the numbers in the list.\n",
    "Use for statement. Appropriate conditional checks are needed."
   ]
  },
  {
   "cell_type": "code",
   "execution_count": 1,
   "metadata": {},
   "outputs": [],
   "source": [
    "# another solution\n",
    "def num_avg(alist):\n",
    "    total = 0\n",
    "    list_len = len(alist)\n",
    "    if list_len > 0:\n",
    "    # conditional check #1\n",
    "        try:\n",
    "        # conditional check #2\n",
    "            for i in alist:\n",
    "                total += float(i)\n",
    "            avg = total / list_len\n",
    "            return avg\n",
    "        except ValueError:\n",
    "            print(\"has characters\")\n",
    "    else:\n",
    "        print(\"list is of length 0\")"
   ]
  },
  {
   "cell_type": "code",
   "execution_count": 5,
   "metadata": {},
   "outputs": [
    {
     "data": {
      "text/plain": [
       "2.0"
      ]
     },
     "execution_count": 5,
     "metadata": {},
     "output_type": "execute_result"
    }
   ],
   "source": [
    "test_list1 = [1, 2, 3]\n",
    "result1 = num_avg(test_list1)\n",
    "result1"
   ]
  },
  {
   "cell_type": "code",
   "execution_count": 7,
   "metadata": {},
   "outputs": [
    {
     "name": "stdout",
     "output_type": "stream",
     "text": [
      "list is of length 0\n"
     ]
    }
   ],
   "source": [
    "test_list2 = []\n",
    "result2 = num_avg(test_list2)\n",
    "result2"
   ]
  },
  {
   "cell_type": "code",
   "execution_count": 9,
   "metadata": {},
   "outputs": [
    {
     "name": "stdout",
     "output_type": "stream",
     "text": [
      "has characters\n"
     ]
    }
   ],
   "source": [
    "test_list3 = [1, 2, \"a\"]\n",
    "result3 = num_avg(test_list3)\n",
    "result3"
   ]
  },
  {
   "cell_type": "code",
   "execution_count": null,
   "metadata": {},
   "outputs": [],
   "source": [
    "def sum_num(numberList):\n",
    "    try:\n",
    "        total = 0\n",
    "        listLength = len(numberList)\n",
    "        for i in range(len(numberList)):\n",
    "            numberList[i] = float(numberList[i])\n",
    "            total = total + numberList[i]\n",
    "        average = total / listLength\n",
    "        return average\n",
    "    except:\n",
    "        print('The list contains characters or strings')\n",
    "\n",
    "list1 = [1,9,12,24]\n",
    "sum_num(list1)"
   ]
  },
  {
   "cell_type": "markdown",
   "metadata": {},
   "source": [
    "## Exercise n. 4 (2 Marks)\n",
    "Textual histogram generator. Write a function that, given a list of numbers, prints an histogram based on those numbers. Use asterisks to draw.\n",
    "Example:\n",
    "Given the list [3,7,9,5] it should produce the following histogram:\n",
    "\n",
    "`===`\n",
    "\n",
    "`=======`\n",
    "\n",
    "`=========`\n",
    "\n",
    "`=====`"
   ]
  },
  {
   "cell_type": "code",
   "execution_count": null,
   "metadata": {},
   "outputs": [],
   "source": [
    "def histogram(numberList):\n",
    "    for number in numberList:\n",
    "        print('=' * int(number)) #easy solution multiplication of strings\n",
    "        #for j in range(number): #alternative to *\n",
    "        #    print('=')\n",
    "\n",
    "list1 = [7,1,9,12]\n",
    "histogram(list1)"
   ]
  },
  {
   "cell_type": "markdown",
   "metadata": {},
   "source": [
    "## Exercise n. 5 (2 Marks)\n",
    "Same as exercise n. 5 but the function should receive a parameter to order the list. The parameter should allow values “Ascending” or “Descending”. It should be used to produce an appropriate histogram based on the ordered list.\n",
    "Example:\n",
    "Given the list [3,7,9,5] and ordering “Ascending” it should produce the following histogram:\n",
    "\n",
    "`===`\n",
    "\n",
    "`=====`\n",
    "\n",
    "`=======`\n",
    "\n",
    "`=========`\n"
   ]
  },
  {
   "cell_type": "code",
   "execution_count": null,
   "metadata": {},
   "outputs": [],
   "source": [
    "def histogram(numberList, ascending): #two parameters\n",
    "    if ascending == True:\n",
    "        sortedList = sorted(numberList, reverse=False)\n",
    "    else:\n",
    "        sortedList = sorted(numberList, reverse=True)\n",
    "        \n",
    "    for number in sortedList:\n",
    "        print('=' * int(number))\n",
    "\n",
    "list1 = [7,1,9,12]\n",
    "orderAscending = True\n",
    "histogram(list1, orderAscending)"
   ]
  },
  {
   "cell_type": "code",
   "execution_count": null,
   "metadata": {},
   "outputs": [],
   "source": []
  }
 ],
 "metadata": {
  "anaconda-cloud": {},
  "kernelspec": {
   "display_name": "Python 3",
   "language": "python",
   "name": "python3"
  },
  "language_info": {
   "codemirror_mode": {
    "name": "ipython",
    "version": 3
   },
   "file_extension": ".py",
   "mimetype": "text/x-python",
   "name": "python",
   "nbconvert_exporter": "python",
   "pygments_lexer": "ipython3",
   "version": "3.8.8"
  },
  "toc": {
   "nav_menu": {},
   "number_sections": true,
   "sideBar": true,
   "skip_h1_title": false,
   "title_cell": "Table of Contents",
   "title_sidebar": "Contents",
   "toc_cell": false,
   "toc_position": {},
   "toc_section_display": true,
   "toc_window_display": false
  }
 },
 "nbformat": 4,
 "nbformat_minor": 4
}
