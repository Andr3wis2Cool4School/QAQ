{
 "cells": [
  {
   "cell_type": "markdown",
   "id": "42f08a8d",
   "metadata": {},
   "source": [
    "**In this course, we will learn arrays in java.**"
   ]
  },
  {
   "cell_type": "markdown",
   "id": "0713cc59",
   "metadata": {},
   "source": [
    "Arrays are used to store multiple values in a single variable, instead of declaring separate variables for each value.\n",
    "\n",
    "To declare an array, define the variable type with square brackets:\n",
    "\n",
    "```java\n",
    "String[] cars;\n",
    "```\n",
    "\n",
    "We have now declared a variable that holds an array of strings. To insert values to it, we can use an array literal - place the values in a comma-separated list, inside curly braces:\n",
    "\n",
    "```java\n",
    "String[] cars = {\"Volvo\", \"BMW\", \"Ford\", \"Mazda\"};\n",
    "```\n",
    "\n",
    "To create an array of integers, you could write:\n",
    "\n",
    "```java\n",
    "int[] myNum = {10, 20, 30, 40};\n",
    "```\n"
   ]
  },
  {
   "cell_type": "markdown",
   "id": "1d6250f4",
   "metadata": {},
   "source": [
    "You access an array element by referring to the index number.\n",
    "\n",
    "This statement accesses the value of the first element in cars:\n",
    "\n",
    "```java\n",
    "String[] cars = {\"Volvo\", \"BMW\", \"Ford\", \"Mazda\"};\n",
    "System.out.println(cars[0]);\n",
    "```"
   ]
  },
  {
   "cell_type": "markdown",
   "id": "3aee638c",
   "metadata": {},
   "source": [
    "To change the value of a specific element, refer to the index number:\n",
    "```java\n",
    "cars[0] = \"Opel\";\n",
    "```"
   ]
  },
  {
   "cell_type": "markdown",
   "id": "2012a6a4",
   "metadata": {},
   "source": [
    "```java\n",
    "String[] cars = {\"Volvo\", \"BMW\", \"Ford\", \"Mazda\"};\n",
    "cars[0] = \"Opel\";\n",
    "System.out.println(cars[0]);\n",
    "```"
   ]
  },
  {
   "cell_type": "markdown",
   "id": "5f249e0d",
   "metadata": {},
   "source": [
    "To find out how many elements an array has, use the length property:"
   ]
  },
  {
   "cell_type": "markdown",
   "id": "a49330e1",
   "metadata": {},
   "source": [
    "```java\n",
    "String[] cars = {\"Volvo\", \"BMW\", \"Ford\", \"Mazda\"};\n",
    "System.out.println(cars.length);\n",
    "// Outputs 4\n",
    "```"
   ]
  },
  {
   "cell_type": "markdown",
   "id": "5fbf8835",
   "metadata": {},
   "source": [
    "## Loop through an array"
   ]
  },
  {
   "cell_type": "markdown",
   "id": "f8337ab9",
   "metadata": {},
   "source": [
    "You can loop through the array elements with the for loop, and use the length property to specify how many times the loop should run.\n",
    "\n",
    "The following example outputs all elements in the cars array:\n",
    "\n"
   ]
  },
  {
   "cell_type": "markdown",
   "id": "feb69005",
   "metadata": {},
   "source": [
    "```java\n",
    "String[] cars = {\"Volvo\", \"BMW\", \"Ford\", \"Mazda\"};\n",
    "for (int i = 0; i < cars.length; i++) {\n",
    "  System.out.println(cars[i]);\n",
    "}\n",
    "```\n",
    "\n",
    "See file loopArray.java"
   ]
  },
  {
   "cell_type": "markdown",
   "id": "6c2aa5df",
   "metadata": {},
   "source": [
    "## Using For loop like Python"
   ]
  },
  {
   "cell_type": "markdown",
   "id": "37f30ff5",
   "metadata": {},
   "source": [
    "```java\n",
    "String[] cars = {\"Volvo\", \"BMW\", \"Ford\", \"Mazda\"};\n",
    "for (String i : cars) {\n",
    "  System.out.println(i);\n",
    "}\n",
    "```\n",
    "See file loopArray.java"
   ]
  },
  {
   "cell_type": "markdown",
   "id": "c3dbbbfe",
   "metadata": {},
   "source": [
    "## multidimensional array"
   ]
  },
  {
   "cell_type": "markdown",
   "id": "bdbb1dbb",
   "metadata": {},
   "source": [
    "A multidimensional array is an array containing one or more arrays.\n",
    "\n",
    "To create a two-dimensional array, add each array within its own set of curly braces:"
   ]
  },
  {
   "cell_type": "markdown",
   "id": "4e3c6c61",
   "metadata": {},
   "source": [
    "```java\n",
    "int[][] myNumbers = { {1, 2, 3, 4}, {5, 6, 7, 8} };\n",
    "```"
   ]
  },
  {
   "cell_type": "markdown",
   "id": "03c2e0d4",
   "metadata": {},
   "source": [
    "myNumbers is now an array with two arrays as its elements.\n",
    "\n",
    "To access the elements of the myNumbers array, specify two indexes: one for the array, and one for the element inside that array. \n",
    "\n",
    "the row_index = 1 and column_index= 2"
   ]
  },
  {
   "cell_type": "markdown",
   "id": "0ddf7840",
   "metadata": {},
   "source": [
    "```java\n",
    "int[][] myNumbers = { {1, 2, 3, 4}, {5, 6, 7, 8} };\n",
    "int x = myNumbers[1][2];\n",
    "System.out.println(x); // Outputs 7\n",
    "```"
   ]
  },
  {
   "cell_type": "markdown",
   "id": "17853c43",
   "metadata": {},
   "source": [
    "### quick ex1\n",
    "**Now use your computer to access the row_index = 1, column_index = 1**\n",
    "\n",
    "First, talk to me what will be the output, than code it"
   ]
  },
  {
   "cell_type": "code",
   "execution_count": null,
   "id": "73a89c37",
   "metadata": {},
   "outputs": [],
   "source": []
  },
  {
   "cell_type": "markdown",
   "id": "4841b577",
   "metadata": {},
   "source": [
    "## quick ex2\n",
    "Using two for loops to print out all elements inside a 2Darray.\n",
    "\n",
    "\n",
    "\n",
    "Named it as printArray.java"
   ]
  },
  {
   "cell_type": "code",
   "execution_count": null,
   "id": "414e3fd5",
   "metadata": {},
   "outputs": [],
   "source": []
  },
  {
   "cell_type": "code",
   "execution_count": null,
   "id": "c2af90a8",
   "metadata": {},
   "outputs": [],
   "source": []
  }
 ],
 "metadata": {
  "kernelspec": {
   "display_name": "Python 3",
   "language": "python",
   "name": "python3"
  },
  "language_info": {
   "codemirror_mode": {
    "name": "ipython",
    "version": 3
   },
   "file_extension": ".py",
   "mimetype": "text/x-python",
   "name": "python",
   "nbconvert_exporter": "python",
   "pygments_lexer": "ipython3",
   "version": "3.8.8"
  }
 },
 "nbformat": 4,
 "nbformat_minor": 5
}
