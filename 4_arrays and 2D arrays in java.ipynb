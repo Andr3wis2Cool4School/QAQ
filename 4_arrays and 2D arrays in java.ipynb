{
 "cells": [
  {
   "cell_type": "markdown",
   "id": "296b4c2c",
   "metadata": {},
   "source": [
    "**In this course, we will learn arrays in java.**"
   ]
  },
  {
   "cell_type": "markdown",
   "id": "3db58546",
   "metadata": {},
   "source": [
    "Arrays are used to store multiple values in a single variable, instead of declaring separate variables for each value.\n",
    "\n",
    "To declare an array, define the variable type with square brackets:\n",
    "\n",
    "```java\n",
    "String[] cars;\n",
    "```\n",
    "\n",
    "We have now declared a variable that holds an array of strings. To insert values to it, we can use an array literal - place the values in a comma-separated list, inside curly braces:\n",
    "\n",
    "```java\n",
    "String[] cars = {\"Volvo\", \"BMW\", \"Ford\", \"Mazda\"};\n",
    "```\n",
    "\n",
    "To create an array of integers, you could write:\n",
    "\n",
    "```java\n",
    "int[] myNum = {10, 20, 30, 40};\n",
    "```\n"
   ]
  },
  {
   "cell_type": "markdown",
   "id": "c8d7449c",
   "metadata": {},
   "source": [
    "You access an array element by referring to the index number.\n",
    "\n",
    "This statement accesses the value of the first element in cars:\n",
    "\n",
    "```java\n",
    "String[] cars = {\"Volvo\", \"BMW\", \"Ford\", \"Mazda\"};\n",
    "System.out.println(cars[0]);\n",
    "```"
   ]
  },
  {
   "cell_type": "markdown",
   "id": "9e9ac80b",
   "metadata": {},
   "source": [
    "To change the value of a specific element, refer to the index number:\n",
    "```java\n",
    "cars[0] = \"Opel\";\n",
    "```"
   ]
  },
  {
   "cell_type": "markdown",
   "id": "1dee017e",
   "metadata": {},
   "source": [
    "```java\n",
    "String[] cars = {\"Volvo\", \"BMW\", \"Ford\", \"Mazda\"};\n",
    "cars[0] = \"Opel\";\n",
    "System.out.println(cars[0]);\n",
    "```"
   ]
  },
  {
   "cell_type": "markdown",
   "id": "3af55a65",
   "metadata": {},
   "source": [
    "To find out how many elements an array has, use the length property:"
   ]
  },
  {
   "cell_type": "markdown",
   "id": "738dbb13",
   "metadata": {},
   "source": [
    "```java\n",
    "String[] cars = {\"Volvo\", \"BMW\", \"Ford\", \"Mazda\"};\n",
    "System.out.println(cars.length);\n",
    "// Outputs 4\n",
    "```"
   ]
  },
  {
   "cell_type": "markdown",
   "id": "1811b780",
   "metadata": {},
   "source": [
    "## Loop through an array"
   ]
  },
  {
   "cell_type": "markdown",
   "id": "9a70dbc8",
   "metadata": {},
   "source": [
    "You can loop through the array elements with the for loop, and use the length property to specify how many times the loop should run.\n",
    "\n",
    "The following example outputs all elements in the cars array:\n",
    "\n"
   ]
  },
  {
   "cell_type": "markdown",
   "id": "47510f15",
   "metadata": {},
   "source": [
    "```java\n",
    "String[] cars = {\"Volvo\", \"BMW\", \"Ford\", \"Mazda\"};\n",
    "for (int i = 0; i < cars.length; i++) {\n",
    "  System.out.println(cars[i]);\n",
    "}\n",
    "```\n",
    "\n",
    "See file loopArray.java"
   ]
  },
  {
   "cell_type": "markdown",
   "id": "28a64220",
   "metadata": {},
   "source": [
    "## Using For loop like Python"
   ]
  },
  {
   "cell_type": "markdown",
   "id": "6754cb42",
   "metadata": {},
   "source": [
    "```java\n",
    "String[] cars = {\"Volvo\", \"BMW\", \"Ford\", \"Mazda\"};\n",
    "for (String i : cars) {\n",
    "  System.out.println(i);\n",
    "}\n",
    "```\n",
    "See file loopArray.java"
   ]
  },
  {
   "cell_type": "code",
   "execution_count": null,
   "id": "f86affab",
   "metadata": {},
   "outputs": [],
   "source": []
  }
 ],
 "metadata": {
  "kernelspec": {
   "display_name": "Python 3",
   "language": "python",
   "name": "python3"
  },
  "language_info": {
   "codemirror_mode": {
    "name": "ipython",
    "version": 3
   },
   "file_extension": ".py",
   "mimetype": "text/x-python",
   "name": "python",
   "nbconvert_exporter": "python",
   "pygments_lexer": "ipython3",
   "version": "3.8.8"
  }
 },
 "nbformat": 4,
 "nbformat_minor": 5
}
